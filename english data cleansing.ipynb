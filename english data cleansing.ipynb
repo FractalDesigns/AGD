{
 "cells": [
  {
   "cell_type": "code",
   "execution_count": 1,
   "metadata": {
    "collapsed": true
   },
   "outputs": [],
   "source": [
    "import os \n",
    "from bs4 import BeautifulSoup\n",
    "import warnings\n",
    "import logging\n"
   ]
  },
  {
   "cell_type": "code",
   "execution_count": 2,
   "metadata": {
    "collapsed": true
   },
   "outputs": [],
   "source": [
    "warnings.filterwarnings('error')\n",
    "\n",
    "logger = logging.getLogger(__name__)\n",
    "\n",
    "TRUTH_FILE_COLUMNS = ['id', 'gender', 'age_group','other_attribute']\n",
    "# beware separator in the truth file is :::"
   ]
  },
  {
   "cell_type": "code",
   "execution_count": 3,
   "metadata": {
    "collapsed": true
   },
   "outputs": [],
   "source": [
    "#prsing "
   ]
  },
  {
   "cell_type": "code",
   "execution_count": 4,
   "metadata": {
    "collapsed": false
   },
   "outputs": [],
   "source": [
    "with open(\"./en/1a0a6b860d3e89da11f1465090077569_en_30s_female.xml\") as fp:\n",
    "        xml = '\\n'.join(fp.readlines())\n",
    "        soup = BeautifulSoup(xml, 'html.parser')\n",
    "        author = soup.author"
   ]
  },
  {
   "cell_type": "code",
   "execution_count": 5,
   "metadata": {
    "collapsed": false
   },
   "outputs": [],
   "source": [
    "for d in author.find_all('conversation'):\n",
    "    text = d.get_text().strip()"
   ]
  },
  {
   "cell_type": "code",
   "execution_count": 6,
   "metadata": {
    "collapsed": false
   },
   "outputs": [
    {
     "data": {
      "text/plain": [
       "'Personal finance advisors and columnists have worked hard to put the word out that credit unions are far better when it comes to fair customer dealings. When retail banking customers find their banking experience far from satisfactory at the large banks, the credit unions often appear as a breath of fresh air. So if the unions are so clean cut, what are they doing turning to the payday loan lender business?<br />;<br />;Does this mean that the credit unions are trying to clean up payday loans? Are they going to do it right?charging borrowers reasonable interest rates and so on? The traditional loan business isn\\'t all that happy with the way credit unions are entering their turf. Especially when they believe that they aren\\'t going to be much more reputable than the traditional businesses have ever been. They are just unhappy that unions are going to take business away from them by pretending to be better than the traditional lenders.<br />;<br />;Let\\'s take a closer look. The National Credit Union Administration, which is the body that supervises federally chartered unions, is where the new credit union payday loan idea was born. They call these an alternative to what the traditional payday loan lender usually offers, for those who are tired of the predatory lending practices of those businesses.<br />;<br />;People who borrow from the traditional payday loan lender are usually driven into debt by the high rates of interest and how they allow you to keep the loan indefinitely as long as you pay their killing rates of interest. The credit union loan on the other hand charges a perfectly reasonable 28%, they make sure that you don\\'t get to borrow more than $1000, and they make sure that you don\\'t get to keep it longer than six months. This has the effect of limiting how far people will end up driving themselves into debt. Only union members are eligible to apply.<br />;<br />;So are these really fairer terms than what you find at your typical payday loan lenders? Well, the way personal finance experts see it, 28% is still quite expensive. But the unions help borrowers, by making sure that there are no extended rollovers allowed, protect their borrowers. So yes, you could say that they were fairer.<br />;<br />;But this isn\\'t the only type of payday loan they make. Some of their loans charge 100%. As expensive as that sounds, it\\'s still cheaper than your regular loan lender. But isn\\'t 100% rather extortionist nevertheless? Why would credit unions involve themselves in this kind of business?<br />;<br />;Because they need to make money, like anyone else. And they feel they actually are bringing a degree of fairness to the industry by charging a mere 100%.<br />;<a href=\"http://en.pan.netcom/go/out/url=http%3A%2F%2Fwww.whatisagoodcreditscoremean.com%2F2011%2F08%2Fcambrian-credit-union-the-particular-less-costly-option%2F\"target=\"_blank\" rel=\"nofollow\">;http://www.whatisagoodcreditscoremean.com/2011/08/cambrian-credit-union-the-particular-less-costly-option/</a>;'"
      ]
     },
     "execution_count": 6,
     "metadata": {},
     "output_type": "execute_result"
    }
   ],
   "source": [
    "text"
   ]
  },
  {
   "cell_type": "code",
   "execution_count": 7,
   "metadata": {
    "collapsed": false
   },
   "outputs": [
    {
     "data": {
      "text/plain": [
       "str"
      ]
     },
     "execution_count": 7,
     "metadata": {},
     "output_type": "execute_result"
    }
   ],
   "source": [
    "type(text)"
   ]
  },
  {
   "cell_type": "code",
   "execution_count": 8,
   "metadata": {
    "collapsed": true
   },
   "outputs": [],
   "source": [
    "def parse_xml(filename):\n",
    "    posts = []\n",
    "    with open(filename) as fp:\n",
    "        xml = '\\n'.join(fp.readlines())\n",
    "        soup = BeautifulSoup(xml, 'html.parser')\n",
    "        author = soup.author\n",
    "        author_attrs = dict(author.attrs)\n",
    "\n",
    "        # the only child tags we have are conversation tags embedded in conversations tag\n",
    "        for c in author.find_all('conversation'):\n",
    "            text = c.get_text()\n",
    "            posts.append(text)\n",
    "            \n",
    "        doc = dict()\n",
    "        doc['id'] = filename.split(\"/\")[-1][:32]\n",
    "        doc['posts'] = posts\n",
    "        doc['text'] = text\n",
    "        doc.update({'attr.' + k: v for k, v in author_attrs.items()})\n",
    "    return doc\n",
    "            \n",
    "    "
   ]
  },
  {
   "cell_type": "code",
   "execution_count": 9,
   "metadata": {
    "collapsed": false
   },
   "outputs": [],
   "source": [
    "doc = parse_xml(\"./en/1a0a6b860d3e89da11f1465090077569_en_30s_female.xml\")"
   ]
  },
  {
   "cell_type": "code",
   "execution_count": 10,
   "metadata": {
    "collapsed": false
   },
   "outputs": [
    {
     "data": {
      "text/plain": [
       "2"
      ]
     },
     "execution_count": 10,
     "metadata": {},
     "output_type": "execute_result"
    }
   ],
   "source": [
    "len(doc[\"posts\"])"
   ]
  },
  {
   "cell_type": "code",
   "execution_count": 11,
   "metadata": {
    "collapsed": false
   },
   "outputs": [
    {
     "data": {
      "text/plain": [
       "{'attr.age_group': '30s',\n",
       " 'attr.gender': 'female',\n",
       " 'attr.lang': 'en',\n",
       " 'id': '1a0a6b860d3e89da11f1465090077569',\n",
       " 'posts': ['\\n\\n\\t\\t\\tThis summer, some folks are wondering if they can afford to enjoy it as they have in the past. Ever since the recession, banks have been losing the respect of the public. Their reputation has been tarnished, and many are wondering where they can take their money for reliable, friendly and cost-effective service.<br />;<br />;Credit unions have been around for years, but people still wonder exactly how they work, and if they can get the same features and benefits of a big bank. The answer is yes. Most credit unions not only offer every product you can find at a bank, they usually offer it at substantial savings. Let\\'s not forget better service, too.<br />;<br />;Banks are owned by shareholders, like any other company trying to make a profit. In order to make that profit, they need income. That comes from the high rates you pay on loans through them, or the fees you\\'re assessed for using savings or checking accounts, or credit cards. Even deceptive totally-free offers usually come with unexpected fees later on, and limiting conditions.<br />;<br />;At a credit union, you are the shareholder when you become a member. You\\'ll be asked to keep anywhere from $5-$25 in a share-savings. This is your share and you are now part owner. But since credit unions are inherently non-profit, all those funds that are normally generated must be funneled back to you. There are fewer and smaller fees, and often much more leniency in refunding them. More money for training new employees and keeping talented financial advisers on staff results in more knowledgeable service. You can get higher returns on your deposits, and you can get some of the best rates on the market for loans.<br />;<br />;Now it used to be that credit unions were smaller, and didn\\'t have the resources to offer the same products as banks. These days, membership eligibility often includes the populations of whole cities and counties. Some boast assets of several billion dollars. This means plenty of capital for your auto loans, boat loans, or RV loans with uniquely low interest rates. You can get first and second mortgages with low closing costs and extremely competitive rates. You can even look to your credit union for great rates on mobile home and cottage loans.<br />;<br />;These benefits seem too good to be true, but remember, you are not just a customer anymore. You\\'re a member. You can even vote in major credit union decisions because the board of directors is simply a selection of fellow members just like you. The recession had a rough impact on banks and as a result credit unions have been flourishing.<br />;<br />;They\\'ve grown only more secure. And this security has trickled down to its members. You no longer have to fear for the economic strength of your financial institution. Credit union members can relax and enjoy the summer fun. If fun includes a cottage or speedboat, at least you got a killer deal to brag about on the beach.<br />;<a href=\"http://en.pan.netcom/go/out/url=http%3A%2F%2Fwww.whatisagoodcreditscoremean.com%2Fservice-credit-union%2Fcolorado-service-credit-union\"target=\"_blank\" rel=\"nofollow\">;http://www.whatisagoodcreditscoremean.com/service-credit-union/colorado-service-credit-union</a>;\\n\\n\\t\\t',\n",
       "  '\\n\\n\\t\\t\\tPersonal finance advisors and columnists have worked hard to put the word out that credit unions are far better when it comes to fair customer dealings. When retail banking customers find their banking experience far from satisfactory at the large banks, the credit unions often appear as a breath of fresh air. So if the unions are so clean cut, what are they doing turning to the payday loan lender business?<br />;<br />;Does this mean that the credit unions are trying to clean up payday loans? Are they going to do it right?charging borrowers reasonable interest rates and so on? The traditional loan business isn\\'t all that happy with the way credit unions are entering their turf. Especially when they believe that they aren\\'t going to be much more reputable than the traditional businesses have ever been. They are just unhappy that unions are going to take business away from them by pretending to be better than the traditional lenders.<br />;<br />;Let\\'s take a closer look. The National Credit Union Administration, which is the body that supervises federally chartered unions, is where the new credit union payday loan idea was born. They call these an alternative to what the traditional payday loan lender usually offers, for those who are tired of the predatory lending practices of those businesses.<br />;<br />;People who borrow from the traditional payday loan lender are usually driven into debt by the high rates of interest and how they allow you to keep the loan indefinitely as long as you pay their killing rates of interest. The credit union loan on the other hand charges a perfectly reasonable 28%, they make sure that you don\\'t get to borrow more than $1000, and they make sure that you don\\'t get to keep it longer than six months. This has the effect of limiting how far people will end up driving themselves into debt. Only union members are eligible to apply.<br />;<br />;So are these really fairer terms than what you find at your typical payday loan lenders? Well, the way personal finance experts see it, 28% is still quite expensive. But the unions help borrowers, by making sure that there are no extended rollovers allowed, protect their borrowers. So yes, you could say that they were fairer.<br />;<br />;But this isn\\'t the only type of payday loan they make. Some of their loans charge 100%. As expensive as that sounds, it\\'s still cheaper than your regular loan lender. But isn\\'t 100% rather extortionist nevertheless? Why would credit unions involve themselves in this kind of business?<br />;<br />;Because they need to make money, like anyone else. And they feel they actually are bringing a degree of fairness to the industry by charging a mere 100%.<br />;<a href=\"http://en.pan.netcom/go/out/url=http%3A%2F%2Fwww.whatisagoodcreditscoremean.com%2F2011%2F08%2Fcambrian-credit-union-the-particular-less-costly-option%2F\"target=\"_blank\" rel=\"nofollow\">;http://www.whatisagoodcreditscoremean.com/2011/08/cambrian-credit-union-the-particular-less-costly-option/</a>;\\n\\n\\t\\t'],\n",
       " 'text': '\\n\\n\\t\\t\\tPersonal finance advisors and columnists have worked hard to put the word out that credit unions are far better when it comes to fair customer dealings. When retail banking customers find their banking experience far from satisfactory at the large banks, the credit unions often appear as a breath of fresh air. So if the unions are so clean cut, what are they doing turning to the payday loan lender business?<br />;<br />;Does this mean that the credit unions are trying to clean up payday loans? Are they going to do it right?charging borrowers reasonable interest rates and so on? The traditional loan business isn\\'t all that happy with the way credit unions are entering their turf. Especially when they believe that they aren\\'t going to be much more reputable than the traditional businesses have ever been. They are just unhappy that unions are going to take business away from them by pretending to be better than the traditional lenders.<br />;<br />;Let\\'s take a closer look. The National Credit Union Administration, which is the body that supervises federally chartered unions, is where the new credit union payday loan idea was born. They call these an alternative to what the traditional payday loan lender usually offers, for those who are tired of the predatory lending practices of those businesses.<br />;<br />;People who borrow from the traditional payday loan lender are usually driven into debt by the high rates of interest and how they allow you to keep the loan indefinitely as long as you pay their killing rates of interest. The credit union loan on the other hand charges a perfectly reasonable 28%, they make sure that you don\\'t get to borrow more than $1000, and they make sure that you don\\'t get to keep it longer than six months. This has the effect of limiting how far people will end up driving themselves into debt. Only union members are eligible to apply.<br />;<br />;So are these really fairer terms than what you find at your typical payday loan lenders? Well, the way personal finance experts see it, 28% is still quite expensive. But the unions help borrowers, by making sure that there are no extended rollovers allowed, protect their borrowers. So yes, you could say that they were fairer.<br />;<br />;But this isn\\'t the only type of payday loan they make. Some of their loans charge 100%. As expensive as that sounds, it\\'s still cheaper than your regular loan lender. But isn\\'t 100% rather extortionist nevertheless? Why would credit unions involve themselves in this kind of business?<br />;<br />;Because they need to make money, like anyone else. And they feel they actually are bringing a degree of fairness to the industry by charging a mere 100%.<br />;<a href=\"http://en.pan.netcom/go/out/url=http%3A%2F%2Fwww.whatisagoodcreditscoremean.com%2F2011%2F08%2Fcambrian-credit-union-the-particular-less-costly-option%2F\"target=\"_blank\" rel=\"nofollow\">;http://www.whatisagoodcreditscoremean.com/2011/08/cambrian-credit-union-the-particular-less-costly-option/</a>;\\n\\n\\t\\t'}"
      ]
     },
     "execution_count": 11,
     "metadata": {},
     "output_type": "execute_result"
    }
   ],
   "source": [
    "doc"
   ]
  },
  {
   "cell_type": "code",
   "execution_count": 12,
   "metadata": {
    "collapsed": false
   },
   "outputs": [],
   "source": [
    "# since we are getting problem with the tags in beautiful soup \n",
    "import re \n",
    "def remove_tags(text):\n",
    "    cleanr = re.compile('<a.*>.*?</a>|<.*?>|\\\\n|\\\\t|;|\\\\>')\n",
    "    cleantext = re.sub(cleanr, '', text)\n",
    "    return cleantext"
   ]
  },
  {
   "cell_type": "code",
   "execution_count": 13,
   "metadata": {
    "collapsed": false
   },
   "outputs": [
    {
     "data": {
      "text/plain": [
       "\"This summer, some folks are wondering if they can afford to enjoy it as they have in the past. Ever since the recession, banks have been losing the respect of the public. Their reputation has been tarnished, and many are wondering where they can take their money for reliable, friendly and cost-effective service.Credit unions have been around for years, but people still wonder exactly how they work, and if they can get the same features and benefits of a big bank. The answer is yes. Most credit unions not only offer every product you can find at a bank, they usually offer it at substantial savings. Let's not forget better service, too.Banks are owned by shareholders, like any other company trying to make a profit. In order to make that profit, they need income. That comes from the high rates you pay on loans through them, or the fees you're assessed for using savings or checking accounts, or credit cards. Even deceptive totally-free offers usually come with unexpected fees later on, and limiting conditions.At a credit union, you are the shareholder when you become a member. You'll be asked to keep anywhere from $5-$25 in a share-savings. This is your share and you are now part owner. But since credit unions are inherently non-profit, all those funds that are normally generated must be funneled back to you. There are fewer and smaller fees, and often much more leniency in refunding them. More money for training new employees and keeping talented financial advisers on staff results in more knowledgeable service. You can get higher returns on your deposits, and you can get some of the best rates on the market for loans.Now it used to be that credit unions were smaller, and didn't have the resources to offer the same products as banks. These days, membership eligibility often includes the populations of whole cities and counties. Some boast assets of several billion dollars. This means plenty of capital for your auto loans, boat loans, or RV loans with uniquely low interest rates. You can get first and second mortgages with low closing costs and extremely competitive rates. You can even look to your credit union for great rates on mobile home and cottage loans.These benefits seem too good to be true, but remember, you are not just a customer anymore. You're a member. You can even vote in major credit union decisions because the board of directors is simply a selection of fellow members just like you. The recession had a rough impact on banks and as a result credit unions have been flourishing.They've grown only more secure. And this security has trickled down to its members. You no longer have to fear for the economic strength of your financial institution. Credit union members can relax and enjoy the summer fun. If fun includes a cottage or speedboat, at least you got a killer deal to brag about on the beach.\""
      ]
     },
     "execution_count": 13,
     "metadata": {},
     "output_type": "execute_result"
    }
   ],
   "source": [
    "remove_tags(doc[\"posts\"][0])\n"
   ]
  },
  {
   "cell_type": "code",
   "execution_count": 14,
   "metadata": {
    "collapsed": true
   },
   "outputs": [],
   "source": [
    "def parse_xml(filename):\n",
    "    posts = []\n",
    "    with open(filename) as fp:\n",
    "        xml = '\\n'.join(fp.readlines())\n",
    "        soup = BeautifulSoup(xml, 'html.parser')\n",
    "        author = soup.author\n",
    "        author_attrs = dict(author.attrs)\n",
    "\n",
    "        # the only child tags we have are conversation tags embedded in conversations tag\n",
    "        for c in author.find_all('conversation'):\n",
    "            text = remove_tags(c.get_text())\n",
    "            posts.append(text)\n",
    "            \n",
    "        doc = dict()\n",
    "        doc['id'] = filename.split(\"/\")[-1][:32]\n",
    "        doc['posts'] = posts\n",
    "        doc['text'] = text\n",
    "        doc.update({'attr.' + k: v for k, v in author_attrs.items()})\n",
    "    return doc\n",
    "            \n",
    "  "
   ]
  },
  {
   "cell_type": "code",
   "execution_count": 15,
   "metadata": {
    "collapsed": true
   },
   "outputs": [],
   "source": [
    "# now we need to store all data into sqlite database\n",
    "import sqlite3 as sql\n",
    "conn = sql.connect(\"cleaned_english_tweets.db\")"
   ]
  },
  {
   "cell_type": "code",
   "execution_count": 16,
   "metadata": {
    "collapsed": false
   },
   "outputs": [
    {
     "ename": "OperationalError",
     "evalue": "table tweets already exists",
     "output_type": "error",
     "traceback": [
      "\u001b[0;31m---------------------------------------------------------------------------\u001b[0m",
      "\u001b[0;31mOperationalError\u001b[0m                          Traceback (most recent call last)",
      "\u001b[0;32m<ipython-input-16-fd19506647c2>\u001b[0m in \u001b[0;36m<module>\u001b[0;34m()\u001b[0m\n\u001b[1;32m      1\u001b[0m \u001b[0mc\u001b[0m \u001b[1;33m=\u001b[0m \u001b[0mconn\u001b[0m\u001b[1;33m.\u001b[0m\u001b[0mcursor\u001b[0m\u001b[1;33m(\u001b[0m\u001b[1;33m)\u001b[0m\u001b[1;33m\u001b[0m\u001b[0m\n\u001b[1;32m      2\u001b[0m \u001b[0mquery\u001b[0m \u001b[1;33m=\u001b[0m \u001b[1;34m\"CREATE TABLE tweets (user_id int(32),age int(2), gender varchar(1), post text );\"\u001b[0m\u001b[1;33m\u001b[0m\u001b[0m\n\u001b[0;32m----> 3\u001b[0;31m \u001b[0mc\u001b[0m\u001b[1;33m.\u001b[0m\u001b[0mexecute\u001b[0m\u001b[1;33m(\u001b[0m\u001b[0mquery\u001b[0m\u001b[1;33m)\u001b[0m\u001b[1;33m\u001b[0m\u001b[0m\n\u001b[0m",
      "\u001b[0;31mOperationalError\u001b[0m: table tweets already exists"
     ]
    }
   ],
   "source": [
    "c = conn.cursor()\n",
    "query = \"CREATE TABLE tweets (\\\n",
    "user_id int(32),\\\n",
    "age int(2), \\\n",
    "gender varchar(1), \\\n",
    "post text \\\n",
    ");\"\n",
    "c.execute(query)"
   ]
  },
  {
   "cell_type": "code",
   "execution_count": null,
   "metadata": {
    "collapsed": true
   },
   "outputs": [],
   "source": []
  }
 ],
 "metadata": {
  "kernelspec": {
   "display_name": "Python 3",
   "language": "python",
   "name": "python3"
  },
  "language_info": {
   "codemirror_mode": {
    "name": "ipython",
    "version": 3
   },
   "file_extension": ".py",
   "mimetype": "text/x-python",
   "name": "python",
   "nbconvert_exporter": "python",
   "pygments_lexer": "ipython3",
   "version": "3.6.0"
  }
 },
 "nbformat": 4,
 "nbformat_minor": 2
}
